{
 "cells": [
  {
   "cell_type": "code",
   "execution_count": null,
   "metadata": {},
   "outputs": [],
   "source": [
    "#| hide\n",
    "from hybridpredictmaize22.GEMdataset import *\n",
    "from hybridpredictmaize22.GEMlearn import *"
   ]
  },
  {
   "cell_type": "code",
   "execution_count": null,
   "metadata": {},
   "outputs": [],
   "source": [
    "%load_ext autoreload\n",
    "%autoreload 2"
   ]
  },
  {
   "cell_type": "code",
   "execution_count": null,
   "metadata": {},
   "outputs": [],
   "source": [
    "#| hide\n",
    "import torch\n",
    "import torch.nn as nn\n",
    "import torch.nn.functional as F\n",
    "import numpy as np\n",
    "import pandas as pd\n",
    "import matplotlib.pyplot as plt\n",
    "import os\n",
    "from torch.utils.data import DataLoader\n",
    "\n",
    "from sklearn.experimental import enable_iterative_imputer\n",
    "from sklearn.impute import IterativeImputer\n",
    "from sklearn.impute import KNNImputer\n",
    "\n",
    "from sklearn.preprocessing import StandardScaler\n",
    "from pathlib import Path"
   ]
  },
  {
   "cell_type": "markdown",
   "metadata": {},
   "source": [
    "# hybridpredictmaize22\n",
    "\n",
    "> GxExM yield prediction"
   ]
  },
  {
   "cell_type": "markdown",
   "metadata": {},
   "source": [
    "Repo for analysis of GEM prediction for maize yield"
   ]
  },
  {
   "cell_type": "markdown",
   "metadata": {},
   "source": [
    "## Install"
   ]
  },
  {
   "cell_type": "markdown",
   "metadata": {},
   "source": [
    "```sh\n",
    "pip install hybridpredictmaize22\n",
    "```"
   ]
  },
  {
   "cell_type": "markdown",
   "metadata": {},
   "source": [
    "## How to use"
   ]
  },
  {
   "cell_type": "markdown",
   "metadata": {},
   "source": [
    "A demo of the library specifically for this dataset"
   ]
  },
  {
   "cell_type": "markdown",
   "metadata": {},
   "source": [
    "Generate random data that is the same form as the actual dataset"
   ]
  },
  {
   "cell_type": "code",
   "execution_count": null,
   "metadata": {},
   "outputs": [],
   "source": [
    "import random\n",
    "#generate random SNP matrix\n",
    "gene_dosages = [0, .5, 1]\n",
    "years = [2018,2019]\n",
    "snp_length = 100\n",
    "number_hybrids = 20\n",
    "\n",
    "\n",
    "number_environments = 10\n",
    "env_col = []\n",
    "for i,y in zip(np.arange(number_environments),[random.choice(years) for _ in range(number_environments)]):\n",
    "    env_col.append(f'{i}_{y}')\n",
    "\n",
    "snp_matrix = (np.arange(number_hybrids),np.array([[random.choice(gene_dosages) for x in range(snp_length)] for _ in range(number_hybrids)]))\n",
    "\n",
    "#generate random yield data\n",
    "random_yields = [random.uniform(-1,1) for _ in range(100)]\n",
    "random_hybrids = [random.choice(range(number_hybrids)) for _ in range(100)]\n",
    "random_environments = [random.choice((env_col)) for _ in range(100)]"
   ]
  },
  {
   "cell_type": "code",
   "execution_count": null,
   "metadata": {},
   "outputs": [
    {
     "data": {
      "text/html": [
       "<div>\n",
       "<style scoped>\n",
       "    .dataframe tbody tr th:only-of-type {\n",
       "        vertical-align: middle;\n",
       "    }\n",
       "\n",
       "    .dataframe tbody tr th {\n",
       "        vertical-align: top;\n",
       "    }\n",
       "\n",
       "    .dataframe thead th {\n",
       "        text-align: right;\n",
       "    }\n",
       "</style>\n",
       "<table border=\"1\" class=\"dataframe\">\n",
       "  <thead>\n",
       "    <tr style=\"text-align: right;\">\n",
       "      <th></th>\n",
       "      <th>Hybrid</th>\n",
       "      <th>Yield_Mg_ha</th>\n",
       "      <th>Env</th>\n",
       "    </tr>\n",
       "  </thead>\n",
       "  <tbody>\n",
       "    <tr>\n",
       "      <th>0</th>\n",
       "      <td>13</td>\n",
       "      <td>0.350190</td>\n",
       "      <td>6_2019</td>\n",
       "    </tr>\n",
       "    <tr>\n",
       "      <th>1</th>\n",
       "      <td>6</td>\n",
       "      <td>0.064413</td>\n",
       "      <td>9_2018</td>\n",
       "    </tr>\n",
       "    <tr>\n",
       "      <th>2</th>\n",
       "      <td>14</td>\n",
       "      <td>0.467534</td>\n",
       "      <td>2_2019</td>\n",
       "    </tr>\n",
       "    <tr>\n",
       "      <th>3</th>\n",
       "      <td>7</td>\n",
       "      <td>0.963206</td>\n",
       "      <td>2_2019</td>\n",
       "    </tr>\n",
       "    <tr>\n",
       "      <th>4</th>\n",
       "      <td>0</td>\n",
       "      <td>-0.197542</td>\n",
       "      <td>0_2019</td>\n",
       "    </tr>\n",
       "  </tbody>\n",
       "</table>\n",
       "</div>"
      ],
      "text/plain": [
       "   Hybrid  Yield_Mg_ha     Env\n",
       "0      13     0.350190  6_2019\n",
       "1       6     0.064413  9_2018\n",
       "2      14     0.467534  2_2019\n",
       "3       7     0.963206  2_2019\n",
       "4       0    -0.197542  0_2019"
      ]
     },
     "execution_count": null,
     "metadata": {},
     "output_type": "execute_result"
    }
   ],
   "source": [
    "yield_data = pd.DataFrame({\"Hybrid\":random_hybrids, \"Yield_Mg_ha\":random_yields, 'Env':random_environments})\n",
    "yield_data.head()"
   ]
  },
  {
   "cell_type": "code",
   "execution_count": null,
   "metadata": {},
   "outputs": [
    {
     "name": "stdout",
     "output_type": "stream",
     "text": [
      "      Env  Year         0         1         2         3         4         5  \\\n",
      "0  0_2019  2019  0.459257  0.737527  0.325568  0.339069  0.319371  0.770840   \n",
      "1  1_2018  2018  0.709798  0.069978  0.680074  0.400793  0.909106  0.979593   \n",
      "2  2_2019  2019  0.768011  0.607092  0.777468  0.181033  0.850854  0.803229   \n",
      "3  3_2018  2018  0.074027  0.409835  0.562800  0.458453  0.520226  0.047150   \n",
      "4  4_2018  2018  0.878995  0.092641  0.165952  0.608296  0.244000  0.988127   \n",
      "5  5_2019  2019  0.631363  0.251449  0.969365  0.004020  0.911174  0.923343   \n",
      "6  6_2019  2019  0.982455  0.177676  0.989299  0.067947  0.768552  0.643219   \n",
      "7  7_2018  2018  0.331000  0.065025  0.098610  0.933539  0.332291  0.726276   \n",
      "8  8_2019  2019  0.797633  0.532959  0.616582  0.775982  0.705979  0.317449   \n",
      "9  9_2018  2018  0.479941  0.077079  0.539941  0.587070  0.406727  0.216224   \n",
      "\n",
      "          6         7  ...        40        41        42        43        44  \\\n",
      "0  0.145404  0.989743  ...  0.810642  0.210158  0.696451  0.073473  0.275845   \n",
      "1  0.342592  0.636118  ...  0.662829  0.440427  0.307600  0.444437  0.117043   \n",
      "2  0.720562  0.199258  ...  0.671531  0.264091  0.359619  0.901644  0.077720   \n",
      "3  0.917968  0.132357  ...  0.073660  0.996262  0.550439  0.533343  0.526822   \n",
      "4  0.983519  0.072611  ...  0.866339  0.956450  0.640198  0.227137  0.795131   \n",
      "5  0.031763  0.347501  ...  0.086512  0.117868  0.902342  0.975155  0.510526   \n",
      "6  0.425223  0.928544  ...  0.307677  0.492413  0.987043  0.019421  0.210176   \n",
      "7  0.573278  0.334071  ...  0.224309  0.915200  0.660499  0.013849  0.972140   \n",
      "8  0.927877  0.052121  ...  0.643346  0.457522  0.584144  0.471953  0.761972   \n",
      "9  0.849030  0.349563  ...  0.296059  0.177592  0.940721  0.121564  0.711965   \n",
      "\n",
      "         45        46        47        48        49  \n",
      "0  0.211234  0.150815  0.173858  0.893865  0.256201  \n",
      "1  0.967029  0.668639  0.180897  0.855687  0.808490  \n",
      "2  0.789628  0.916973  0.129690  0.981918  0.759025  \n",
      "3  0.262601  0.893604  0.317646  0.057753  0.620318  \n",
      "4  0.198063  0.765528  0.340870  0.437149  0.473265  \n",
      "5  0.043635  0.072521  0.480727  0.454561  0.954314  \n",
      "6  0.821824  0.234681  0.566459  0.497437  0.476021  \n",
      "7  0.923541  0.917899  0.625954  0.682846  0.359233  \n",
      "8  0.777865  0.278951  0.422312  0.035678  0.325676  \n",
      "9  0.040809  0.992331  0.382401  0.877628  0.466656  \n",
      "\n",
      "[10 rows x 52 columns]\n"
     ]
    }
   ],
   "source": [
    "Weather_Table = np.random.random((50,number_environments))\n",
    "weather_table = {}\n",
    "for c,i in enumerate(Weather_Table):\n",
    "    weather_table[c] = i\n",
    "    \n",
    "weather_data = pd.DataFrame(weather_table)\n",
    "weather_data.insert(0,'Env',env_col)\n",
    "weather_data.insert(1,'Year',[x.split('_')[1] for x in env_col])\n",
    "\n",
    "print(weather_data)"
   ]
  },
  {
   "cell_type": "code",
   "execution_count": null,
   "metadata": {},
   "outputs": [
    {
     "data": {
      "text/html": [
       "<div>\n",
       "<style scoped>\n",
       "    .dataframe tbody tr th:only-of-type {\n",
       "        vertical-align: middle;\n",
       "    }\n",
       "\n",
       "    .dataframe tbody tr th {\n",
       "        vertical-align: top;\n",
       "    }\n",
       "\n",
       "    .dataframe thead th {\n",
       "        text-align: right;\n",
       "    }\n",
       "</style>\n",
       "<table border=\"1\" class=\"dataframe\">\n",
       "  <thead>\n",
       "    <tr style=\"text-align: right;\">\n",
       "      <th></th>\n",
       "      <th>Hybrid</th>\n",
       "      <th>Yield_Mg_ha</th>\n",
       "      <th>Env</th>\n",
       "    </tr>\n",
       "  </thead>\n",
       "  <tbody>\n",
       "    <tr>\n",
       "      <th>0</th>\n",
       "      <td>13</td>\n",
       "      <td>0.350190</td>\n",
       "      <td>6_2019</td>\n",
       "    </tr>\n",
       "    <tr>\n",
       "      <th>1</th>\n",
       "      <td>6</td>\n",
       "      <td>0.064413</td>\n",
       "      <td>9_2018</td>\n",
       "    </tr>\n",
       "    <tr>\n",
       "      <th>2</th>\n",
       "      <td>14</td>\n",
       "      <td>0.467534</td>\n",
       "      <td>2_2019</td>\n",
       "    </tr>\n",
       "    <tr>\n",
       "      <th>3</th>\n",
       "      <td>7</td>\n",
       "      <td>0.963206</td>\n",
       "      <td>2_2019</td>\n",
       "    </tr>\n",
       "    <tr>\n",
       "      <th>4</th>\n",
       "      <td>0</td>\n",
       "      <td>-0.197542</td>\n",
       "      <td>0_2019</td>\n",
       "    </tr>\n",
       "    <tr>\n",
       "      <th>...</th>\n",
       "      <td>...</td>\n",
       "      <td>...</td>\n",
       "      <td>...</td>\n",
       "    </tr>\n",
       "    <tr>\n",
       "      <th>95</th>\n",
       "      <td>18</td>\n",
       "      <td>-0.191020</td>\n",
       "      <td>1_2018</td>\n",
       "    </tr>\n",
       "    <tr>\n",
       "      <th>96</th>\n",
       "      <td>10</td>\n",
       "      <td>-0.926472</td>\n",
       "      <td>2_2019</td>\n",
       "    </tr>\n",
       "    <tr>\n",
       "      <th>97</th>\n",
       "      <td>3</td>\n",
       "      <td>-0.454691</td>\n",
       "      <td>5_2019</td>\n",
       "    </tr>\n",
       "    <tr>\n",
       "      <th>98</th>\n",
       "      <td>10</td>\n",
       "      <td>0.408324</td>\n",
       "      <td>6_2019</td>\n",
       "    </tr>\n",
       "    <tr>\n",
       "      <th>99</th>\n",
       "      <td>14</td>\n",
       "      <td>0.719746</td>\n",
       "      <td>1_2018</td>\n",
       "    </tr>\n",
       "  </tbody>\n",
       "</table>\n",
       "<p>100 rows × 3 columns</p>\n",
       "</div>"
      ],
      "text/plain": [
       "    Hybrid  Yield_Mg_ha     Env\n",
       "0       13     0.350190  6_2019\n",
       "1        6     0.064413  9_2018\n",
       "2       14     0.467534  2_2019\n",
       "3        7     0.963206  2_2019\n",
       "4        0    -0.197542  0_2019\n",
       "..     ...          ...     ...\n",
       "95      18    -0.191020  1_2018\n",
       "96      10    -0.926472  2_2019\n",
       "97       3    -0.454691  5_2019\n",
       "98      10     0.408324  6_2019\n",
       "99      14     0.719746  1_2018\n",
       "\n",
       "[100 rows x 3 columns]"
      ]
     },
     "execution_count": null,
     "metadata": {},
     "output_type": "execute_result"
    }
   ],
   "source": [
    "yield_data"
   ]
  },
  {
   "cell_type": "code",
   "execution_count": null,
   "metadata": {},
   "outputs": [],
   "source": [
    "#Create a GEM dataset\n",
    "test_split = 2019\n",
    "gem = GEM(test_split)\n",
    "gem.Y = YT(yield_data, test_split)\n",
    "gem.W = WT(weather_data, test_split)\n",
    "gem.SNP = snp_matrix"
   ]
  },
  {
   "cell_type": "code",
   "execution_count": null,
   "metadata": {},
   "outputs": [
    {
     "data": {
      "text/plain": [
       "array([[0.75302418]])"
      ]
     },
     "execution_count": null,
     "metadata": {},
     "output_type": "execute_result"
    }
   ],
   "source": [
    "#example of how to unscale a value\n",
    "gem.Y.scaler.inverse_transform(np.array(1.4).reshape(-1,1))"
   ]
  },
  {
   "cell_type": "code",
   "execution_count": null,
   "metadata": {},
   "outputs": [
    {
     "data": {
      "image/png": "[encoded data removed]",
      "text/plain": [
       "<Figure size 640x480 with 1 Axes>"
      ]
     },
     "metadata": {},
     "output_type": "display_data"
    }
   ],
   "source": [
    "gem.Y.plot_yields()"
   ]
  },
  {
   "cell_type": "code",
   "execution_count": null,
   "metadata": {},
   "outputs": [
    {
     "data": {
      "text/plain": [
       "(tensor(0.1281),\n",
       " tensor([1.0000, 1.0000, 0.0000, 1.0000, 1.0000, 1.0000, 1.0000, 0.0000, 0.0000,\n",
       "         0.0000, 0.0000, 0.0000, 0.5000, 0.5000, 1.0000, 1.0000, 1.0000, 0.5000,\n",
       "         1.0000, 0.5000]),\n",
       " tensor([[ 0.6586, -1.3527,  0.2799,  1.6154, -1.0831, -1.2287,  0.7447,  1.0475,\n",
       "          -1.7051, -0.6592, -1.6990,  0.8659,  0.1971, -1.5005,  1.4679, -0.0057,\n",
       "          -1.3124,  0.9911,  0.0959,  1.6687,  0.6416,  1.3909, -0.1510,  1.0113,\n",
       "           1.3073, -1.7838,  1.4986, -0.6473,  0.9429, -0.3509, -1.2243, -0.0549,\n",
       "           1.1983, -0.7537, -0.5440,  0.9003,  0.5778, -1.1093, -0.5868,  1.4705,\n",
       "           1.7104,  0.6460, -1.9530,  0.3982, -0.6292, -0.8740,  1.7787, -0.7473,\n",
       "          -1.0528, -0.6391]]))"
      ]
     },
     "execution_count": null,
     "metadata": {},
     "output_type": "execute_result"
    }
   ],
   "source": [
    "ds = GemDataset(gem.W.Tr, gem.Y.Tr, gem.SNP)\n",
    "next(iter(ds))"
   ]
  },
  {
   "cell_type": "code",
   "execution_count": null,
   "metadata": {},
   "outputs": [],
   "source": [
    "tr_ds = GemDataset(gem.W.Tr, gem.Y.Tr, gem.SNP)\n",
    "te_ds = GemDataset(gem.W.Te, gem.Y.Te, gem.SNP)"
   ]
  },
  {
   "cell_type": "code",
   "execution_count": null,
   "metadata": {},
   "outputs": [],
   "source": [
    "tr_dl = DataLoader(tr_ds, batch_size=4)\n",
    "te_dl = DataLoader(te_ds, batch_size=4)\n",
    "dls = DataLoaders(tr_dl,te_dl)"
   ]
  },
  {
   "cell_type": "code",
   "execution_count": null,
   "metadata": {},
   "outputs": [],
   "source": [
    "class MLP(torch.nn.Module):\n",
    "    def __init__(self, input_size, hidden_size, output_size):\n",
    "        super(MLP, self).__init__()\n",
    "        self.fc1 = nn.Linear(input_size, hidden_size)\n",
    "        self.fc2 = nn.Linear(hidden_size, output_size)\n",
    "\n",
    "    def forward(self, x):\n",
    "        x = self.fc1(x)\n",
    "        x = torch.relu(x)\n",
    "        x = self.fc2(x)\n",
    "        return x\n"
   ]
  },
  {
   "cell_type": "code",
   "execution_count": null,
   "metadata": {},
   "outputs": [],
   "source": [
    "from torcheval.metrics import MeanSquaredError,Mean, R2Score"
   ]
  },
  {
   "cell_type": "code",
   "execution_count": null,
   "metadata": {},
   "outputs": [
    {
     "name": "stderr",
     "output_type": "stream",
     "text": [
      "/mnt/c/Users/cltng/OneDrive/Documents/Projects/hybridpredictmaize22/hybridpredictmaize22/GEMlearn.py:268: UserWarning: Using a target size (torch.Size([1])) that is different to the input size (torch.Size([])). This will likely lead to incorrect results due to broadcasting. Please ensure they have the same size.\n",
      "  learn.loss = learn.loss_func(learn.preds.squeeze(), learn.batch[0])\n"
     ]
    }
   ],
   "source": [
    "model = MLP(20,100, 1)\n",
    "cbs = [TrainCB()]\n",
    "learn = Learner(model, dls, F.mse_loss, lr=.25, cbs=cbs)\n",
    "learn.fit(1)"
   ]
  }
 ],
 "metadata": {
  "kernelspec": {
   "display_name": "Python 3 (ipykernel)",
   "language": "python",
   "name": "python3"
  }
 },
 "nbformat": 4,
 "nbformat_minor": 4
}
