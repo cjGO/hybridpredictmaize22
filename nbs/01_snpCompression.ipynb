{
 "cells": [
  {
   "cell_type": "markdown",
   "metadata": {},
   "source": [
    "# snpCompression\n",
    "\n",
    ">Compresses + stores each chr in a seperate numpy file"
   ]
  },
  {
   "cell_type": "code",
   "execution_count": null,
   "metadata": {},
   "outputs": [],
   "source": [
    "#| default_exp snpCompression"
   ]
  },
  {
   "cell_type": "code",
   "execution_count": null,
   "metadata": {},
   "outputs": [],
   "source": [
    "%load_ext autoreload\n",
    "%autoreload 2"
   ]
  },
  {
   "cell_type": "code",
   "execution_count": null,
   "metadata": {},
   "outputs": [],
   "source": [
    "#| hide\n",
    "from nbdev.showdoc import *"
   ]
  },
  {
   "cell_type": "code",
   "execution_count": null,
   "metadata": {},
   "outputs": [
    {
     "ename": "AttributeError",
     "evalue": "partially initialized module 'hybridpredictmaize22.GEMdataset' has no attribute 'collect_snps' (most likely due to a circular import)",
     "output_type": "error",
     "traceback": [
      "\u001b[0;31m---------------------------------------------------------------------------\u001b[0m",
      "\u001b[0;31mAttributeError\u001b[0m                            Traceback (most recent call last)",
      "Cell \u001b[0;32mIn[4], line 10\u001b[0m\n\u001b[1;32m      8\u001b[0m \u001b[38;5;28;01mimport\u001b[39;00m \u001b[38;5;21;01mnumpy\u001b[39;00m \u001b[38;5;28;01mas\u001b[39;00m \u001b[38;5;21;01mnp\u001b[39;00m\n\u001b[1;32m      9\u001b[0m \u001b[38;5;28;01mfrom\u001b[39;00m \u001b[38;5;21;01msklearn\u001b[39;00m\u001b[38;5;21;01m.\u001b[39;00m\u001b[38;5;21;01mdecomposition\u001b[39;00m \u001b[38;5;28;01mimport\u001b[39;00m PCA\n\u001b[0;32m---> 10\u001b[0m \u001b[38;5;28;01mfrom\u001b[39;00m \u001b[38;5;21;01mhybridpredictmaize22\u001b[39;00m\u001b[38;5;21;01m.\u001b[39;00m\u001b[38;5;21;01mGEMdataset\u001b[39;00m \u001b[38;5;28;01mimport\u001b[39;00m \u001b[38;5;241m*\u001b[39m\n",
      "File \u001b[0;32m/mnt/c/Users/cltng/OneDrive/Documents/Projects/hybridpredictmaize22/hybridpredictmaize22/GEMdataset.py:19\u001b[0m\n\u001b[1;32m     17\u001b[0m \u001b[38;5;28;01mfrom\u001b[39;00m \u001b[38;5;21;01msklearn\u001b[39;00m\u001b[38;5;21;01m.\u001b[39;00m\u001b[38;5;21;01mpreprocessing\u001b[39;00m \u001b[38;5;28;01mimport\u001b[39;00m StandardScaler\n\u001b[1;32m     18\u001b[0m \u001b[38;5;28;01mfrom\u001b[39;00m \u001b[38;5;21;01mpathlib\u001b[39;00m \u001b[38;5;28;01mimport\u001b[39;00m Path\n\u001b[0;32m---> 19\u001b[0m \u001b[38;5;28;01mfrom\u001b[39;00m \u001b[38;5;21;01m.\u001b[39;00m\u001b[38;5;21;01mGEMdataset\u001b[39;00m \u001b[38;5;28;01mimport\u001b[39;00m \u001b[38;5;241m*\u001b[39m\n\u001b[1;32m     22\u001b[0m \u001b[38;5;66;03m# %% ../nbs/02_gemDataset.ipynb 4\u001b[39;00m\n\u001b[1;32m     23\u001b[0m \u001b[38;5;28;01mdef\u001b[39;00m \u001b[38;5;21mcollect_snps\u001b[39m(method):\n",
      "\u001b[0;31mAttributeError\u001b[0m: partially initialized module 'hybridpredictmaize22.GEMdataset' has no attribute 'collect_snps' (most likely due to a circular import)"
     ]
    }
   ],
   "source": [
    "#| import\n",
    "import allel\n",
    "import numpy as np\n",
    "import pandas as pd\n",
    "import matplotlib.pyplot as plt\n",
    "from tqdm import tqdm as tqdm\n",
    "import os\n",
    "import numpy as np\n",
    "from sklearn.decomposition import PCA\n",
    "from hybridpredictmaize22.GEMdataset import *\n"
   ]
  },
  {
   "cell_type": "code",
   "execution_count": null,
   "metadata": {},
   "outputs": [],
   "source": [
    "#| export\n",
    "def vcf2numpy(vcf:str,chr:int):\n",
    "    \"\"\"\n",
    "  in:\n",
    "  vcf -> file.vcf\n",
    "  chr -> chr (to be pulled)\n",
    "\n",
    "  returns the allele dosage (0, 0.5, 1) for all hybrids\n",
    "    \"\"\"\n",
    "    chr = str(chr)\n",
    "    callset = allel.read_vcf(vcf, region=chr)\n",
    "    chr_call = callset['calldata/GT']\n",
    "    chr_alleles = np.sum(chr_call,axis=2)\n",
    "    chr_alleles = chr_alleles/2\n",
    "\n",
    "    return callset['samples'],chr_alleles\n"
   ]
  },
  {
   "cell_type": "code",
   "execution_count": null,
   "metadata": {},
   "outputs": [],
   "source": [
    "#| hide\n",
    "\n",
    "def running_total(seq):\n",
    "    totals = [0]\n",
    "    for x,y in enumerate(seq): totals.append(totals[x] + y)\n",
    "    return totals[1:]"
   ]
  },
  {
   "cell_type": "code",
   "execution_count": null,
   "metadata": {},
   "outputs": [],
   "source": [
    "#| export\n",
    "def SNP_PCA(vcfFile, foldername='./PC/', pc=10):\n",
    "    \"\"\"\n",
    "    Input:\n",
    "        foldername : storage location of npy arrays\n",
    "        pc (int: # of pcs per chromosome)\n",
    "        vcfFile (path)\n",
    "    \"\"\"\n",
    "    chr_lens = []\n",
    "    chr_pcs = []\n",
    "    foldername = f'PCS_{pc}'\n",
    "    if not os.path.exists(foldername):os.mkdir(foldername)\n",
    "    for i in tqdm(range(1,11)):\n",
    "      strain,chr = vcf2numpy(vcfFile, chr=i)\n",
    "      pca = PCA(n_components=pc)\n",
    "      pca.fit(chr)\n",
    "\n",
    "      chr_len = chr.shape[0]\n",
    "      chr_pc = pca.explained_variance_ratio_\n",
    "\n",
    "      chr_lens.append(chr_len)\n",
    "      chr_pcs.append(chr_pc)\n",
    "\n",
    "      np.save(f'./{foldername}/Chr{str(i).zfill(3)}_pcs{pc}.npy', np.array([strain,pca.components_]))\n"
   ]
  },
  {
   "cell_type": "code",
   "execution_count": null,
   "metadata": {},
   "outputs": [],
   "source": [
    "#| export\n",
    "def SNP_evensample(snps=50):\n",
    "    \"\"\"\n",
    "    Input:\n",
    "        foldername : storage location of npy arrays\n",
    "        snps (int: # of snps sampled per chromosome)\n",
    "        vcfFile (path)\n",
    "    \"\"\"\n",
    "    for i in tqdm(range(1,11)):\n",
    "      strain,chr = vcf2numpy('5_Genotype_Data_All_Years.vcf', chr=i)\n",
    "      total_snps = chr.shape[0]\n",
    "\n",
    "      for select_count in [10,50,100]:\n",
    "        selected_snps = np.around(np.linspace(2,total_snps-1,select_count),decimals=0)\n",
    "        kept_snps = []\n",
    "        foldername = f'EVEN_{select_count}'\n",
    "        if not os.path.exists(foldername):os.mkdir(foldername)\n",
    "\n",
    "        for snp in selected_snps:\n",
    "          kept_snps.append(chr[int(snp)])\n",
    "        kept_snps = np.vstack(kept_snps)  \n",
    "        np.save(f'./{foldername}/Chr{str(i).zfill(3)}_snps{select_count}.npy',np.array([strain,kept_snps]))\n"
   ]
  },
  {
   "cell_type": "code",
   "execution_count": null,
   "metadata": {},
   "outputs": [],
   "source": [
    "def collect_snps(method):\n",
    "    \"\"\"\n",
    "    Input\n",
    "        method: a Path(PosixPath) to directory containing npy arrays for each chr\n",
    "    Output\n",
    "        tuple(hybrid ids, snp matrix)\n",
    "    \"\"\"\n",
    "    for c,chr in enumerate(method.iterdir()):\n",
    "        if c == 0:\n",
    "            strains,snp_data = np.load(chr,allow_pickle=True)\n",
    "        else:\n",
    "            strains, snps = np.load(chr, allow_pickle=True)\n",
    "            snp_data = np.vstack((snp_data,snps))\n",
    "\n",
    "    return strains,snp_data"
   ]
  },
  {
   "cell_type": "code",
   "execution_count": null,
   "metadata": {},
   "outputs": [],
   "source": [
    "#| hide\n",
    "import nbdev; nbdev.nbdev_export()"
   ]
  }
 ],
 "metadata": {
  "kernelspec": {
   "display_name": "Python 3 (ipykernel)",
   "language": "python",
   "name": "python3"
  }
 },
 "nbformat": 4,
 "nbformat_minor": 4
}
