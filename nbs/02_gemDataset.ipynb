{
 "cells": [
  {
   "cell_type": "markdown",
   "metadata": {},
   "source": [
    "# GEMdataset\n",
    "\n",
    "> This package will hold the GxExM dataset."
   ]
  },
  {
   "cell_type": "code",
   "execution_count": null,
   "metadata": {},
   "outputs": [],
   "source": [
    "#| default_exp core"
   ]
  },
  {
   "cell_type": "code",
   "execution_count": null,
   "metadata": {},
   "outputs": [],
   "source": [
    "#| hide\n",
    "from nbdev.showdoc import *"
   ]
  },
  {
   "cell_type": "code",
   "execution_count": null,
   "metadata": {},
   "outputs": [],
   "source": [
    "#| export\n",
    "import torch\n",
    "import numpy as np\n",
    "import pandas as pd\n",
    "import matplotlib.pyplot as plt\n",
    "import os\n",
    "\n",
    "from sklearn.experimental import enable_iterative_imputer\n",
    "from sklearn.impute import IterativeImputer\n",
    "from sklearn.impute import KNNImputer\n",
    "\n",
    "from sklearn.preprocessing import StandardScaler\n",
    "from pathlib import Path"
   ]
  },
  {
   "cell_type": "code",
   "execution_count": null,
   "metadata": {},
   "outputs": [],
   "source": [
    "#| export\n",
    "def collect_snps(method):\n",
    "    \"\"\"\n",
    "    Input\n",
    "        method: a Path(PosixPath) to directory containing npy arrays for each chr\n",
    "    Output\n",
    "        tuple(hybrid ids, snp matrix)\n",
    "    \"\"\"\n",
    "    for c,chr in enumerate(method.iterdir()):\n",
    "        if c == 0:\n",
    "            strains,snp_data = np.load(chr,allow_pickle=True)\n",
    "        else:\n",
    "            strains, snps = np.load(chr, allow_pickle=True)\n",
    "            snp_data = np.vstack((snp_data,snps))\n",
    "\n",
    "            return strains,snp_data"
   ]
  },
  {
   "cell_type": "code",
   "execution_count": null,
   "metadata": {},
   "outputs": [],
   "source": [
    "#| export\n",
    "class WT():\n",
    "    \"\"\"\n",
    "    A class which will hold the weather data for the entire dataset for training purposes\n",
    "    \n",
    "    init\n",
    "        weather_data -> pandas table\n",
    "        testYear -> e.g. 2019. this will set all data from a given year as the Test Set\n",
    "    \"\"\"\n",
    "    def __init__(self, weather_data, testYear):\n",
    "        \n",
    "        self.Te = weather_data.iloc[([str(testYear) in x for x in weather_data['Year']]),:].reset_index()\n",
    "        self.Tr = weather_data.iloc[([str(testYear) not in x for x in weather_data['Year']]),:].reset_index()\n",
    "            \n",
    "        self.setup_scaler()\n",
    "        self.scale_data(self.Tr)\n",
    "        self.scale_data(self.Te)\n",
    "            \n",
    "    def setup_scaler(self):\n",
    "        ss = StandardScaler()\n",
    "        ss.fit(self.Tr.select_dtypes('float'))\n",
    "        self.scaler = ss\n",
    "            \n",
    "    def scale_data(self, df):\n",
    "        fd = df.select_dtypes('float')\n",
    "        fs = self.scaler.transform(fd)\n",
    "        df[fd.columns] = fs"
   ]
  },
  {
   "cell_type": "code",
   "execution_count": null,
   "metadata": {},
   "outputs": [],
   "source": [
    "#| export\n",
    "class YT():\n",
    "    \"\"\"\n",
    "    A class which will hold the yield data for the entire dataset for training purposes\n",
    "    \n",
    "    init\n",
    "        yield_data -> pandas table\n",
    "        testYear -> e.g. 2019. this will set all data from a given year as the Test Set\n",
    "    \"\"\"\n",
    "    def __init__(self, yield_data, testYear):\n",
    "\n",
    "        self.Te = yield_data.iloc[([str(testYear) in x for x in yield_data['Env']]),:].reset_index()\n",
    "        self.Tr = yield_data.iloc[([str(testYear) not in x for x in yield_data['Env']]),:].reset_index()\n",
    "\n",
    "        self.setup_scaler()\n",
    "        self.scale_data(self.Tr)\n",
    "        self.scale_data(self.Te)\n",
    "\n",
    "    def setup_scaler(self):\n",
    "        ss = StandardScaler()\n",
    "        ss.fit(np.array(self.Tr['Twt_kg_m3']).reshape(-1,1))\n",
    "        self.scaler = ss\n",
    "\n",
    "    def scale_data(self,df):\n",
    "        ya = np.array(df['Twt_kg_m3']).reshape(-1,1)\n",
    "        ys = self.scaler.transform(ya)\n",
    "        df['scaled_yield'] = ys\n",
    "\n",
    "    def plot_yields(self):\n",
    "\n",
    "        plt.hist(self.Tr['scaled_yield'],density=True, label='Train',alpha=.5,bins=50)\n",
    "        plt.hist(self.Te['scaled_yield'],density=True, label='Test',alpha=.5,bins=50)\n",
    "        plt.legend()\n",
    "        plt.show()"
   ]
  },
  {
   "cell_type": "code",
   "execution_count": null,
   "metadata": {},
   "outputs": [],
   "source": [
    "#| export\n",
    "class GEM():\n",
    "    \"\"\"\n",
    "    init\n",
    "        split -> the year that will be designated as the test split\n",
    "    \"\"\"\n",
    "    def __init__(self, split):\n",
    "        self.split = str(split)\n",
    "        self.Y = None\n",
    "        self.W = None\n",
    "        self.SNP = None"
   ]
  },
  {
   "cell_type": "code",
   "execution_count": null,
   "metadata": {},
   "outputs": [],
   "source": [
    "#| export\n",
    "class GemDataset():\n",
    "    \"\"\"\n",
    "    Pytorch Dataset which can be used with dataloaders for simple batching during training loops\n",
    "    \"\"\"\n",
    "    def __init__(self,W,Y,G):\n",
    "        self.W = W\n",
    "        self.SNP = G\n",
    "        self.Y = Y\n",
    "        \n",
    "    def __len__(self): return self.Y.shape[0]\n",
    "\n",
    "    def __getitem__(self,idx):\n",
    "        #keys to access SNPs and Weather\n",
    "        hybrid = self.Y.iloc[idx,:]['Hybrid']\n",
    "        env = self.Y.iloc[idx,:]['Env']\n",
    "\n",
    "        #values for the model training\n",
    "        target = self.Y.iloc[idx,:]['scaled_yield']\n",
    "        genotype = self.SNP[1][:, np.where(self.SNP[0]==hybrid)[0][0]]\n",
    "        weather = np.array(self.W.loc[self.W['Env'] == env].select_dtypes('float'))\n",
    "\n",
    "        return target, genotype, weather        "
   ]
  },
  {
   "cell_type": "code",
   "execution_count": null,
   "metadata": {},
   "outputs": [],
   "source": [
    "#| hide\n",
    "import nbdev; nbdev.nbdev_export()"
   ]
  }
 ],
 "metadata": {
  "kernelspec": {
   "display_name": "Python 3 (ipykernel)",
   "language": "python",
   "name": "python3"
  }
 },
 "nbformat": 4,
 "nbformat_minor": 4
}
