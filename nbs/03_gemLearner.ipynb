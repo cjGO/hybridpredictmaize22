{
 "cells": [
  {
   "cell_type": "markdown",
   "metadata": {},
   "source": [
    "# GEMdataset\n",
    "\n",
    "> This package will hold the GxExM dataset."
   ]
  },
  {
   "cell_type": "code",
   "execution_count": null,
   "metadata": {},
   "outputs": [],
   "source": [
    "#| default_exp core"
   ]
  },
  {
   "cell_type": "code",
   "execution_count": null,
   "metadata": {},
   "outputs": [],
   "source": [
    "#| hide\n",
    "from nbdev.showdoc import *\n",
    "#| hide\n",
    "from hybridpredictmaize22.core import *"
   ]
  },
  {
   "cell_type": "code",
   "execution_count": null,
   "metadata": {},
   "outputs": [],
   "source": [
    "#| export\n",
    "import torch\n",
    "import torch.nn as nn\n",
    "import numpy as np\n",
    "import pandas as pd\n",
    "import matplotlib.pyplot as plt\n",
    "import os\n",
    "\n",
    "from sklearn.experimental import enable_iterative_imputer\n",
    "from sklearn.impute import IterativeImputer\n",
    "from sklearn.impute import KNNImputer\n",
    "\n",
    "from sklearn.preprocessing import StandardScaler\n",
    "from pathlib import Path\n",
    "\n",
    "from tqdm import tqdm"
   ]
  },
  {
   "cell_type": "code",
   "execution_count": null,
   "metadata": {},
   "outputs": [],
   "source": [
    "def collect_snps(method):\n",
    "    \"\"\"\n",
    "    Input\n",
    "        method: a Path(PosixPath) to directory containing npy arrays for each chr\n",
    "    Output\n",
    "        tuple(hybrid ids, snp matrix)\n",
    "    \"\"\"\n",
    "    for c,chr in enumerate(method.iterdir()):\n",
    "        if c == 0:\n",
    "            strains,snp_data = np.load(chr,allow_pickle=True)\n",
    "        else:\n",
    "            strains, snps = np.load(chr, allow_pickle=True)\n",
    "            snp_data = np.vstack((snp_data,snps))\n",
    "\n",
    "            return strains,snp_data"
   ]
  },
  {
   "cell_type": "code",
   "execution_count": null,
   "metadata": {},
   "outputs": [],
   "source": [
    "def remove_leapdays(weather_data):\n",
    "    obs = {}\n",
    "    for env in weather_data['Env']:\n",
    "        if env not in obs.keys():\n",
    "            obs[env] = 1\n",
    "        else:\n",
    "            obs[env] += 1\n",
    "            \n",
    "    days = []\n",
    "    for i in obs.values():\n",
    "        for x in np.arange(1,i+1):\n",
    "            days.append(x)\n",
    "    weather_data['day'] = days\n",
    "    \n",
    "    return weather_data.drop(weather_data[weather_data['day'] == 366].index)"
   ]
  },
  {
   "cell_type": "code",
   "execution_count": null,
   "metadata": {},
   "outputs": [],
   "source": [
    "path_snps = Path('data/snpCompress/')\n",
    "data_path = Path('data/')\n",
    "\n",
    "path_train_weatherTable =data_path/'Training_Data/4_Training_Weather_Data_2014_2021.csv'\n",
    "path_train_yieldTable = data_path/'Training_Data/1_Training_Trait_Data_2014_2021.csv'\n",
    "\n",
    "snp_data = collect_snps(path_snps/'EVEN_10') # Read in the SNP profiles\n",
    "yield_data = pd.read_csv(path_train_yieldTable) # Read in trait data \n",
    "yield_data = yield_data[yield_data['Twt_kg_m3'].notnull()] #Remove plots w/ missing yields\n",
    "weather_data = pd.read_csv(path_train_weatherTable) # Read in Weather Data\n",
    "weather_data['Year'] = [x.split('_')[1] for x in weather_data['Env']] #Store Year in a new column\n",
    "#removes yield data where no weather data\n",
    "setYield = set(yield_data['Env'])\n",
    "setWeather = set(weather_data['Env'])\n",
    "only_yield = setYield - setWeather\n",
    "only_weather = setWeather - setYield\n",
    "yield_data = yield_data.iloc[[x not in only_yield for x in yield_data['Env']],:]\n",
    "#removes yield data where no genotype data\n",
    "setSNP = set(snp_data[0])\n",
    "setYield = set(yield_data['Hybrid'])\n",
    "only_yield = setYield - setSNP\n",
    "yield_data = yield_data.iloc[[x not in only_yield for x in yield_data['Hybrid']],:]\n",
    "\n",
    "weather_data = remove_leapdays(weather_data)\n",
    "\n",
    "#Create a GEM dataset\n",
    "test_split = 2019\n",
    "gem = GEM(test_split)\n",
    "gem.Y = YT(yield_data, test_split)\n",
    "gem.W = WT(weather_data, test_split)\n",
    "gem.SNP = collect_snps(path_snps/'PCS_10')"
   ]
  },
  {
   "cell_type": "code",
   "execution_count": null,
   "metadata": {},
   "outputs": [],
   "source": [
    "tr_ds = GemDataset(gem.W.Tr, gem.Y.Tr, gem.SNP)\n",
    "te_ds = GemDataset(gem.W.Te, gem.Y.Te, gem.SNP)"
   ]
  },
  {
   "cell_type": "code",
   "execution_count": null,
   "metadata": {},
   "outputs": [],
   "source": [
    "\n",
    "from sklearn.decomposition import PCA\n",
    "pca = PCA(n_components=10)\n",
    "pca.fit(gem.W.Tr.select_dtypes('float'))\n",
    "\n",
    "xt = pca.transform(gem.W.Tr.select_dtypes('float'))"
   ]
  },
  {
   "cell_type": "code",
   "execution_count": null,
   "metadata": {},
   "outputs": [
    {
     "data": {
      "text/plain": [
       "100"
      ]
     },
     "execution_count": null,
     "metadata": {},
     "output_type": "execute_result"
    }
   ],
   "source": [
    "len(gem.SNP[1][:,0])"
   ]
  },
  {
   "cell_type": "code",
   "execution_count": null,
   "metadata": {},
   "outputs": [],
   "source": [
    "y,g,w = next(iter(tr_dataloader))"
   ]
  },
  {
   "cell_type": "code",
   "execution_count": null,
   "metadata": {},
   "outputs": [
    {
     "data": {
      "text/plain": [
       "tensor([-0.0896, -0.3257], dtype=torch.float64)"
      ]
     },
     "execution_count": null,
     "metadata": {},
     "output_type": "execute_result"
    }
   ],
   "source": [
    "y"
   ]
  },
  {
   "cell_type": "code",
   "execution_count": null,
   "metadata": {},
   "outputs": [
    {
     "data": {
      "text/plain": [
       "tensor([[-1.4762e-02, -2.3288e-02, -6.3084e-03, -1.7486e-02,  6.3609e-03,\n",
       "         -1.5166e-04, -1.3257e-02, -6.9261e-03,  2.4446e-03, -5.4344e-03,\n",
       "         -1.3596e-02, -8.1493e-03, -2.8573e-02,  6.8375e-05, -1.8999e-03,\n",
       "          5.8052e-03,  1.9241e-03,  7.4015e-03,  6.6820e-03,  3.5863e-03],\n",
       "        [-1.2375e-02,  1.2435e-02,  1.5766e-02, -8.5501e-05,  2.6469e-02,\n",
       "          9.3661e-03, -8.1021e-03,  1.6535e-02,  3.7941e-03,  1.4547e-03,\n",
       "         -1.2195e-02, -7.6322e-03,  1.3484e-02, -2.9628e-02, -6.7986e-03,\n",
       "         -1.3800e-02,  8.4463e-03,  8.5973e-03,  9.7985e-03,  1.3054e-02]],\n",
       "       dtype=torch.float64)"
      ]
     },
     "execution_count": null,
     "metadata": {},
     "output_type": "execute_result"
    }
   ],
   "source": [
    "g"
   ]
  },
  {
   "cell_type": "code",
   "execution_count": null,
   "metadata": {},
   "outputs": [
    {
     "data": {
      "text/plain": [
       "tensor([[[-1.1246, -1.3069, -2.1896,  ..., -2.6626,  0.4862, -0.4141],\n",
       "         [-1.1125, -1.2796, -2.3085,  ..., -2.5843,  0.5902, -0.4141],\n",
       "         [-1.0131, -1.0902, -2.4306,  ..., -2.5843,  0.3125, -0.4141],\n",
       "         ...,\n",
       "         [-1.3721, -2.0269, -2.5099,  ..., -2.5061,  0.4247, -0.4141],\n",
       "         [-1.2362, -1.5962, -2.6618,  ..., -2.5061,  0.9022, -0.4141],\n",
       "         [-1.2849, -1.7781, -2.6156,  ..., -2.5061, -0.7401, -0.2731]],\n",
       "\n",
       "        [[-1.0739, -1.1269,  0.0823,  ...,  0.3897, -1.3370,  1.2321],\n",
       "         [-1.0253, -1.0289,  0.0427,  ...,  0.3897, -1.0186, -0.3565],\n",
       "         [-0.9766, -0.9234, -0.0234,  ...,  0.4680, -1.1715, -0.1291],\n",
       "         ...,\n",
       "         [-1.0131, -1.0110, -0.1456,  ...,  1.0941, -1.2673, -0.3625],\n",
       "         [-1.0496, -1.0911, -0.0993,  ...,  1.0941, -1.1932, -0.3610],\n",
       "         [-0.8022, -0.6331, -0.2512,  ...,  1.0941, -1.1127, -0.3656]]],\n",
       "       dtype=torch.float64)"
      ]
     },
     "execution_count": null,
     "metadata": {},
     "output_type": "execute_result"
    }
   ],
   "source": [
    "w"
   ]
  },
  {
   "cell_type": "code",
   "execution_count": null,
   "metadata": {},
   "outputs": [],
   "source": [
    "class Model(nn.Module):\n",
    "    def __init__(self, n_in, nh, n_out):\n",
    "        super().__init__()\n",
    "        self.layers = [nn.Linear(n_in,nh), nn.ReLU(), nn.Linear(nh,n_out)]\n",
    "        \n",
    "    def __call__(self,x):\n",
    "        for l in self.layers:x = l(x)\n",
    "        return x"
   ]
  },
  {
   "cell_type": "code",
   "execution_count": null,
   "metadata": {},
   "outputs": [],
   "source": [
    "class Optimizer():\n",
    "    def __init__(self, params, lr=0.5): self.params,self.lr=list(params),lr\n",
    "\n",
    "    def step(self):\n",
    "        with torch.no_grad():\n",
    "            for p in self.params: p -= p.grad * self.lr\n",
    "\n",
    "    def zero_grad(self):\n",
    "        for p in self.params: p.grad.data.zero_()"
   ]
  },
  {
   "cell_type": "code",
   "execution_count": null,
   "metadata": {},
   "outputs": [],
   "source": [
    "class gwModel(nn.Module):\n",
    "    def __init__(self, gi,gh,wi,wh,c):\n",
    "        super().__init__()\n",
    "        self.gi = nn.Linear(gi,gh)\n",
    "        self.wi = nn.Linear(wi,wh)\n",
    "\n",
    "        self.gh = nn.Linear(gh,c)\n",
    "        self.wh = nn.Linear(wh,c)\n",
    "    \n",
    "        self.o = nn.Linear(c*2,1)\n",
    "    \n",
    "    def forward(self,x):\n",
    "        g,w = x\n",
    "        \n",
    "        w=w.flatten()\n",
    "        \n",
    "        #snp\n",
    "        g = self.gi(g)\n",
    "        g = torch.relu(g)\n",
    "        g = self.gh(g)\n",
    "        g = torch.relu(g)\n",
    "        \n",
    "        #wet\n",
    "        w = self.wi(w)\n",
    "        w = torch.relu(w)\n",
    "        w = self.wh(w)\n",
    "        w = torch.relu(w)\n",
    "        \n",
    "        #print(w.shape)\n",
    "        g = (g.flatten())\n",
    "        x = torch.cat((w,g), dim = 0)\n",
    "        out = self.o(x)\n",
    "        return out\n",
    "        \n",
    "       # print(x)"
   ]
  },
  {
   "cell_type": "code",
   "execution_count": null,
   "metadata": {},
   "outputs": [
    {
     "data": {
      "text/plain": [
       "tensor([-0.0634], grad_fn=<AddBackward0>)"
      ]
     },
     "execution_count": null,
     "metadata": {},
     "output_type": "execute_result"
    }
   ],
   "source": [
    "gi = g.flatten().shape[0]\n",
    "wi = w.flatten().shape[0]\n",
    "\n",
    "gw = gwModel(gi,10,wi,10,5)\n",
    "\n",
    "g=g.type(torch.float32)\n",
    "w=w.type(torch.float32)\n",
    "gw([g,w])"
   ]
  },
  {
   "cell_type": "code",
   "execution_count": null,
   "metadata": {},
   "outputs": [
    {
     "name": "stderr",
     "output_type": "stream",
     "text": [
      "100%|██████████████████████████████████████████████████████████████████████████████| 1000/1000 [00:07<00:00, 132.41it/s]\n",
      "100%|██████████████████████████████████████████████████████████████████████████████| 1000/1000 [00:07<00:00, 128.42it/s]\n",
      "100%|██████████████████████████████████████████████████████████████████████████████| 1000/1000 [00:07<00:00, 133.89it/s]\n",
      "100%|██████████████████████████████████████████████████████████████████████████████| 1000/1000 [00:07<00:00, 127.73it/s]\n",
      "100%|██████████████████████████████████████████████████████████████████████████████| 1000/1000 [00:08<00:00, 122.80it/s]\n",
      "100%|██████████████████████████████████████████████████████████████████████████████| 1000/1000 [00:08<00:00, 121.12it/s]\n",
      "100%|██████████████████████████████████████████████████████████████████████████████| 1000/1000 [00:08<00:00, 120.22it/s]\n",
      "100%|██████████████████████████████████████████████████████████████████████████████| 1000/1000 [00:07<00:00, 125.08it/s]\n",
      "100%|██████████████████████████████████████████████████████████████████████████████| 1000/1000 [00:08<00:00, 122.28it/s]\n",
      "100%|██████████████████████████████████████████████████████████████████████████████| 1000/1000 [00:07<00:00, 132.40it/s]\n"
     ]
    }
   ],
   "source": [
    "gw = gwModel(gi,10,wi,10,5)\n",
    "opt = Optimizer(gw.parameters())\n",
    "loss_func = nn.MSELoss()\n",
    "\n",
    "losses = []\n",
    "for epoch in range(10):\n",
    "    for batch in tqdm(range(1000)):\n",
    "        y,g,w = next(iter(tr_dataloader))\n",
    "        g=g.type(torch.float32)\n",
    "        w=w.type(torch.float32)\n",
    "        predict = gw([g,w])\n",
    "        loss = loss_func(y.type(torch.float32),predict.squeeze().type(torch.float32))\n",
    "        loss.backward()\n",
    "        opt.step()\n",
    "        opt.zero_grad()\n",
    "        losses.append(loss)"
   ]
  },
  {
   "cell_type": "code",
   "execution_count": null,
   "metadata": {},
   "outputs": [
    {
     "data": {
      "text/plain": [
       "[]"
      ]
     },
     "execution_count": null,
     "metadata": {},
     "output_type": "execute_result"
    },
    {
     "data": {
      "image/png": "[encoded data removed]",
      "text/plain": [
       "<Figure size 640x480 with 1 Axes>"
      ]
     },
     "metadata": {},
     "output_type": "display_data"
    }
   ],
   "source": [
    "plt.plot()"
   ]
  },
  {
   "cell_type": "code",
   "execution_count": null,
   "metadata": {},
   "outputs": [],
   "source": [
    "newis = []\n",
    "for i in [x.detach().numpy() for x in losses]:\n",
    "    if i > 0.1:\n",
    "        pass\n",
    "    else:\n",
    "        newis.append(i)\n"
   ]
  },
  {
   "cell_type": "code",
   "execution_count": null,
   "metadata": {},
   "outputs": [],
   "source": [
    "\n",
    "plt.plot([x.detach().numpy() for x in losses],)"
   ]
  },
  {
   "cell_type": "code",
   "execution_count": null,
   "metadata": {},
   "outputs": [],
   "source": [
    "import torch\n",
    "import torch.nn as nn\n",
    "\n",
    "# Define the model\n",
    "class MLP(nn.Module):\n",
    "  def __init__(self, input_size1, input_size2, hidden_size, output_size):\n",
    "    super().__init__()\n",
    "    self.fc1 = nn.Linear(input_size1 + input_size2, hidden_size)\n",
    "    self.fc2 = nn.Linear(hidden_size, output_size)\n",
    "\n",
    "  def forward(self, x1, x2):\n",
    "    # Concatenate the inputs\n",
    "    x = torch.cat((x1, x2), dim=1)\n",
    "    # Pass the concatenated inputs through the model\n",
    "    x = self.fc1(x)\n",
    "    x = torch.relu(x)\n",
    "    x = self.fc2(x)\n",
    "    return x\n",
    "\n",
    "# Create an instance of the model\n",
    "model = MLP(input_size1=10, input_size2=5, hidden_size=20, output_size=1)\n",
    "\n",
    "# Define the loss function and optimizer\n",
    "criterion = nn.MSELoss()\n",
    "optimizer = torch.optim.Adam(model.parameters())\n",
    "\n",
    "# Train the model\n",
    "for epoch in range(100):\n",
    "  # Generate some fake data for training\n",
    "  input1 = torch.randn(64, 10)\n",
    "  input2 = torch.randn(64, 5)\n",
    "  target = torch.randn(64, 1)\n",
    "\n",
    "  # Forward pass\n",
    "  output = model(input1, input2)\n",
    "  loss = criterion(output, target)\n",
    "\n",
    "  # Backward pass and optimization\n",
    "  optimizer.zero_grad()\n",
    "  loss.backward()\n",
    "  optimizer.step()"
   ]
  },
  {
   "cell_type": "code",
   "execution_count": null,
   "metadata": {},
   "outputs": [],
   "source": [
    "wModel = Model(len(w[0].flatten()), 100, 1)\n",
    "opt = Optimizer(wModel.parameters())\n",
    "loss_func = nn.MSELoss()"
   ]
  },
  {
   "cell_type": "code",
   "execution_count": null,
   "metadata": {},
   "outputs": [],
   "source": [
    "from torch.utils.data import DataLoader\n",
    "\n",
    "bs = 1\n",
    "\n",
    "tr_dataloader = DataLoader(tr_ds, batch_size=bs, shuffle=True)\n",
    "te_dataloader = DataLoader(te_ds, batch_size=bs, shuffle=True)"
   ]
  },
  {
   "cell_type": "code",
   "execution_count": null,
   "metadata": {},
   "outputs": [],
   "source": [
    "y,g,w = next(iter(tr_dataloader))"
   ]
  },
  {
   "cell_type": "code",
   "execution_count": null,
   "metadata": {},
   "outputs": [
    {
     "data": {
      "text/plain": [
       "(tensor([-0.0800], dtype=torch.float64),\n",
       " tensor([[-0.0150, -0.0167, -0.0021, -0.0018,  0.0007,  0.0036,  0.0149,  0.0025,\n",
       "          -0.0002,  0.0019, -0.0142, -0.0090,  0.0013,  0.0047,  0.0115,  0.0025,\n",
       "           0.0115, -0.0171, -0.0071, -0.0088]], dtype=torch.float64),\n",
       " tensor([[[-1.1368, -1.2739,  0.0493,  ...,  0.3897, -0.4923, -0.4141],\n",
       "          [-0.9380, -0.8706, -0.0432,  ...,  0.3897, -1.3578,  0.3211],\n",
       "          [-1.1977, -1.5086,  0.0691,  ...,  0.3897, -0.9535, -0.4141],\n",
       "          ...,\n",
       "          [-1.3843, -1.9836,  0.3795,  ..., -0.2364, -1.3541,  0.1604],\n",
       "          [-1.5080, -2.6762,  0.5380,  ..., -0.2364, -0.8170, -0.3807],\n",
       "          [-1.5323, -2.8487,  0.7625,  ..., -0.2364, -0.0700, -0.4095]]],\n",
       "        dtype=torch.float64))"
      ]
     },
     "execution_count": null,
     "metadata": {},
     "output_type": "execute_result"
    }
   ],
   "source": [
    "y,g,w"
   ]
  },
  {
   "cell_type": "code",
   "execution_count": null,
   "metadata": {},
   "outputs": [],
   "source": [
    "wModel = Model(len(w[0].flatten()), 2, 1)\n",
    "opt = Optimizer(wModel.parameters())\n",
    "loss_func = nn.MSELoss()\n",
    "losses = []\n",
    "for _ in range(1000):\n",
    "    y,g,w = next(iter(tr_dataloader))\n",
    "    xb = w.flatten().type(torch.float32)\n",
    "    preds = wModel(xb)\n",
    "    loss = loss_func(preds, y.type(torch.float32))\n",
    "    losses.append(loss.detach().numpy())\n",
    "    loss.backward()\n",
    "    with torch.no_grad():\n",
    "        for l in wModel.layers:\n",
    "            if hasattr(l, 'weight'):\n",
    "                l.weight -= l.weight.grad * lr\n",
    "                l.bias   -= l.bias.grad   * lr\n",
    "                l.weight.grad.zero_()\n",
    "                l.bias  .grad.zero_()"
   ]
  },
  {
   "cell_type": "code",
   "execution_count": null,
   "metadata": {},
   "outputs": [],
   "source": [
    "def f():\n",
    "    yield from losses\n",
    "    \n",
    "from itertools import islice"
   ]
  },
  {
   "cell_type": "code",
   "execution_count": null,
   "metadata": {},
   "outputs": [],
   "source": [
    "x = f()"
   ]
  },
  {
   "cell_type": "code",
   "execution_count": null,
   "metadata": {},
   "outputs": [
    {
     "data": {
      "text/plain": [
       "[array(0.60116553, dtype=float32),\n",
       " array(0.28334367, dtype=float32),\n",
       " array(38.599186, dtype=float32),\n",
       " array(0.14587544, dtype=float32),\n",
       " array(0.12108066, dtype=float32)]"
      ]
     },
     "execution_count": null,
     "metadata": {},
     "output_type": "execute_result"
    }
   ],
   "source": [
    "list(islice(x,5))"
   ]
  },
  {
   "cell_type": "code",
   "execution_count": null,
   "metadata": {},
   "outputs": [
    {
     "data": {
      "text/plain": [
       "array(0.7243655, dtype=float32)"
      ]
     },
     "execution_count": null,
     "metadata": {},
     "output_type": "execute_result"
    }
   ],
   "source": []
  },
  {
   "cell_type": "code",
   "execution_count": null,
   "metadata": {},
   "outputs": [
    {
     "data": {
      "text/plain": [
       "[<matplotlib.lines.Line2D>]"
      ]
     },
     "execution_count": null,
     "metadata": {},
     "output_type": "execute_result"
    },
    {
     "data": {
      "image/png": "[encoded data removed]",
      "text/plain": [
       "<Figure size 640x480 with 1 Axes>"
      ]
     },
     "metadata": {},
     "output_type": "display_data"
    }
   ],
   "source": [
    "plt.plot(losses)"
   ]
  },
  {
   "cell_type": "code",
   "execution_count": null,
   "metadata": {},
   "outputs": [
    {
     "name": "stderr",
     "output_type": "stream",
     "text": [
      "100%|█████████████████████████████████████████████████████████████████████████████████| 100/100 [00:24<00:00,  4.06it/s]\n",
      "100%|█████████████████████████████████████████████████████████████████████████████████| 100/100 [00:24<00:00,  4.15it/s]\n",
      "100%|█████████████████████████████████████████████████████████████████████████████████| 100/100 [00:23<00:00,  4.31it/s]\n",
      "100%|█████████████████████████████████████████████████████████████████████████████████| 100/100 [00:23<00:00,  4.29it/s]\n",
      "100%|█████████████████████████████████████████████████████████████████████████████████| 100/100 [00:22<00:00,  4.39it/s]\n"
     ]
    },
    {
     "data": {
      "text/plain": [
       "[<matplotlib.lines.Line2D>]"
      ]
     },
     "execution_count": null,
     "metadata": {},
     "output_type": "execute_result"
    },
    {
     "data": {
      "image/png": "[encoded data removed]",
      "text/plain": [
       "<Figure size 640x480 with 1 Axes>"
      ]
     },
     "metadata": {},
     "output_type": "display_data"
    }
   ],
   "source": [
    "wModel = Model(len(w[0].flatten()), 2, 1)\n",
    "opt = Optimizer(wModel.parameters())\n",
    "loss_func = nn.MSELoss()\n",
    "\n",
    "losses = []\n",
    "for epoch in range(5):\n",
    "    for batch in tqdm(range(100)):\n",
    "        y,g,w = next(iter(tr_dataloader))\n",
    "        weather_input = w.reshape(bs,w.shape[1]*w.shape[2]).type(torch.float32)\n",
    "        predict = wModel(weather_input)\n",
    "        loss = loss_func(y.type(torch.float32),predict.squeeze().type(torch.float32))\n",
    "        loss.backward()\n",
    "        opt.step()\n",
    "        opt.zero_grad()\n",
    "        losses.append(loss)\n",
    "\n",
    "plt.plot([x.detach().numpy() for x in losses])"
   ]
  },
  {
   "cell_type": "code",
   "execution_count": null,
   "metadata": {},
   "outputs": [],
   "source": []
  },
  {
   "cell_type": "code",
   "execution_count": null,
   "metadata": {},
   "outputs": [
    {
     "name": "stderr",
     "output_type": "stream",
     "text": [
      "100%|█████████████████████████████████████████████████████████████████████████████████| 100/100 [00:21<00:00,  4.58it/s]\n",
      "100%|█████████████████████████████████████████████████████████████████████████████████| 100/100 [00:22<00:00,  4.49it/s]\n",
      "100%|█████████████████████████████████████████████████████████████████████████████████| 100/100 [00:22<00:00,  4.44it/s]\n",
      "100%|█████████████████████████████████████████████████████████████████████████████████| 100/100 [00:22<00:00,  4.37it/s]\n",
      "100%|█████████████████████████████████████████████████████████████████████████████████| 100/100 [00:22<00:00,  4.53it/s]\n"
     ]
    },
    {
     "data": {
      "text/plain": [
       "[<matplotlib.lines.Line2D>]"
      ]
     },
     "execution_count": null,
     "metadata": {},
     "output_type": "execute_result"
    },
    {
     "data": {
      "image/png": "[encoded data removed]",
      "text/plain": [
       "<Figure size 640x480 with 1 Axes>"
      ]
     },
     "metadata": {},
     "output_type": "display_data"
    }
   ],
   "source": [
    "gModel = Model(len(g[0].flatten()), 50, 1)\n",
    "opt = Optimizer(gModel.parameters())\n",
    "loss_func = nn.MSELoss()\n",
    "\n",
    "losses = []\n",
    "for epoch in range(5):\n",
    "    for batch in tqdm(range(100)):\n",
    "        y,g,w = next(iter(tr_dataloader))\n",
    "        g_input = g.reshape(bs,g.shape[1]).type(torch.float32)\n",
    "        predict = wModel(weather_input)\n",
    "        loss = loss_func(y.type(torch.float32),predict.squeeze().type(torch.float32))\n",
    "        loss.backward()\n",
    "        opt.step()\n",
    "        opt.zero_grad()\n",
    "        losses.append(loss)\n",
    "\n",
    "plt.plot([x.detach().numpy() for x in losses])"
   ]
  },
  {
   "cell_type": "code",
   "execution_count": null,
   "metadata": {},
   "outputs": [],
   "source": [
    "y,g,w = next(iter(tr_dataloader))\n",
    "weather_input = w.reshape(bs,w.shape[1]*w.shape[2]).type(torch.float32)\n",
    "predict = wModel(weather_input)\n",
    "loss = loss_func(y.type(torch.float32),predict.type(torch.float32))\n",
    "loss.backward()\n",
    "opt.step()\n",
    "opt.zero_grad()\n",
    "losses.append(loss)"
   ]
  },
  {
   "cell_type": "code",
   "execution_count": null,
   "metadata": {},
   "outputs": [
    {
     "data": {
      "text/plain": [
       "torch.Size([64])"
      ]
     },
     "execution_count": null,
     "metadata": {},
     "output_type": "execute_result"
    }
   ],
   "source": [
    "y.shape"
   ]
  },
  {
   "cell_type": "code",
   "execution_count": null,
   "metadata": {},
   "outputs": [
    {
     "data": {
      "text/plain": [
       "torch.Size([64])"
      ]
     },
     "execution_count": null,
     "metadata": {},
     "output_type": "execute_result"
    }
   ],
   "source": [
    ".shape"
   ]
  },
  {
   "cell_type": "code",
   "execution_count": null,
   "metadata": {},
   "outputs": [
    {
     "data": {
      "text/plain": [
       "[<matplotlib.lines.Line2D>]"
      ]
     },
     "execution_count": null,
     "metadata": {},
     "output_type": "execute_result"
    },
    {
     "data": {
      "image/png": "[encoded data removed]",
      "text/plain": [
       "<Figure size 640x480 with 1 Axes>"
      ]
     },
     "metadata": {},
     "output_type": "display_data"
    }
   ],
   "source": []
  },
  {
   "cell_type": "code",
   "execution_count": null,
   "metadata": {},
   "outputs": [],
   "source": []
  },
  {
   "cell_type": "code",
   "execution_count": null,
   "metadata": {},
   "outputs": [
    {
     "data": {
      "text/plain": [
       "torch.Size([64])"
      ]
     },
     "execution_count": null,
     "metadata": {},
     "output_type": "execute_result"
    }
   ],
   "source": [
    "\n",
    "y.shape"
   ]
  },
  {
   "cell_type": "code",
   "execution_count": null,
   "metadata": {},
   "outputs": [
    {
     "data": {
      "text/plain": [
       "torch.Size([64, 20])"
      ]
     },
     "execution_count": null,
     "metadata": {},
     "output_type": "execute_result"
    }
   ],
   "source": [
    "g.shape"
   ]
  },
  {
   "cell_type": "code",
   "execution_count": null,
   "metadata": {},
   "outputs": [
    {
     "data": {
      "text/plain": [
       "torch.Size([64, 365, 16])"
      ]
     },
     "execution_count": null,
     "metadata": {},
     "output_type": "execute_result"
    }
   ],
   "source": [
    "w.shape"
   ]
  },
  {
   "cell_type": "code",
   "execution_count": null,
   "metadata": {},
   "outputs": [
    {
     "data": {
      "text/plain": [
       "64"
      ]
     },
     "execution_count": null,
     "metadata": {},
     "output_type": "execute_result"
    }
   ],
   "source": []
  },
  {
   "cell_type": "code",
   "execution_count": null,
   "metadata": {},
   "outputs": [],
   "source": []
  },
  {
   "cell_type": "code",
   "execution_count": null,
   "metadata": {},
   "outputs": [],
   "source": [
    "wModel = Model(len(w[0].flatten()), 100, 1)"
   ]
  },
  {
   "cell_type": "code",
   "execution_count": null,
   "metadata": {},
   "outputs": [
    {
     "data": {
      "text/plain": [
       "torch.Size([2, 365, 16])"
      ]
     },
     "execution_count": null,
     "metadata": {},
     "output_type": "execute_result"
    }
   ],
   "source": [
    "w.shape"
   ]
  },
  {
   "cell_type": "code",
   "execution_count": null,
   "metadata": {},
   "outputs": [],
   "source": [
    "weather_input = w.reshape(2,w.shape[1]*w.shape[2]).type(torch.float32)"
   ]
  },
  {
   "cell_type": "code",
   "execution_count": null,
   "metadata": {},
   "outputs": [],
   "source": [
    "pred = wModel(weather_input)"
   ]
  },
  {
   "cell_type": "code",
   "execution_count": null,
   "metadata": {},
   "outputs": [],
   "source": []
  },
  {
   "cell_type": "code",
   "execution_count": null,
   "metadata": {},
   "outputs": [
    {
     "data": {
      "text/plain": [
       "tensor(0.0688, dtype=torch.float64, grad_fn=<MseLossBackward0>)"
      ]
     },
     "execution_count": null,
     "metadata": {},
     "output_type": "execute_result"
    }
   ],
   "source": [
    "loss(pred,y)"
   ]
  },
  {
   "cell_type": "code",
   "execution_count": null,
   "metadata": {},
   "outputs": [],
   "source": [
    "for target, inp in next(iter(tr_dataloader)):\n",
    "    pass"
   ]
  },
  {
   "cell_type": "code",
   "execution_count": null,
   "metadata": {},
   "outputs": [
    {
     "data": {
      "text/plain": [
       "torch.Size([365, 16])"
      ]
     },
     "execution_count": null,
     "metadata": {},
     "output_type": "execute_result"
    }
   ],
   "source": [
    "target.shape"
   ]
  },
  {
   "cell_type": "code",
   "execution_count": null,
   "metadata": {},
   "outputs": [
    {
     "data": {
      "text/plain": [
       "torch.Size([365, 16])"
      ]
     },
     "execution_count": null,
     "metadata": {},
     "output_type": "execute_result"
    }
   ],
   "source": [
    "inp.shape"
   ]
  },
  {
   "cell_type": "code",
   "execution_count": null,
   "metadata": {},
   "outputs": [],
   "source": [
    "#| hide\n",
    "import nbdev; nbdev.nbdev_export()"
   ]
  },
  {
   "cell_type": "code",
   "execution_count": null,
   "metadata": {},
   "outputs": [],
   "source": []
  },
  {
   "cell_type": "code",
   "execution_count": null,
   "metadata": {},
   "outputs": [],
   "source": []
  },
  {
   "cell_type": "code",
   "execution_count": null,
   "metadata": {},
   "outputs": [],
   "source": []
  },
  {
   "cell_type": "code",
   "execution_count": null,
   "metadata": {},
   "outputs": [],
   "source": []
  }
 ],
 "metadata": {
  "kernelspec": {
   "display_name": "Python 3 (ipykernel)",
   "language": "python",
   "name": "python3"
  }
 },
 "nbformat": 4,
 "nbformat_minor": 4
}
