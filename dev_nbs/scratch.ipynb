{
 "cells": [
  {
   "cell_type": "code",
   "execution_count": null,
   "id": "8d508f71",
   "metadata": {},
   "outputs": [],
   "source": [
    "\n",
    "#| hide\n",
    "from hybridpredictmaize22.GEMdataset import *\n"
   ]
  },
  {
   "cell_type": "code",
   "execution_count": null,
   "id": "ca1bdafc",
   "metadata": {},
   "outputs": [],
   "source": [
    "import torch\n",
    "import numpy as np\n",
    "import pandas as pd\n",
    "import matplotlib.pyplot as plt\n",
    "import os\n",
    "\n",
    "from sklearn.experimental import enable_iterative_imputer\n",
    "from sklearn.impute import IterativeImputer\n",
    "from sklearn.impute import KNNImputer\n",
    "\n",
    "from sklearn.preprocessing import StandardScaler\n",
    "from pathlib import Path"
   ]
  },
  {
   "cell_type": "code",
   "execution_count": null,
   "id": "36ca98de",
   "metadata": {},
   "outputs": [],
   "source": [
    "path_snps = Path('data/snpCompress/')\n",
    "data_path = Path('data/')\n",
    "\n",
    "path_train_weatherTable =data_path/'Training_Data/4_Training_Weather_Data_2014_2021.csv'\n",
    "path_train_yieldTable = data_path/'Training_Data/1_Training_Trait_Data_2014_2021.csv'"
   ]
  },
  {
   "cell_type": "code",
   "execution_count": null,
   "id": "e2224b14",
   "metadata": {},
   "outputs": [
    {
     "name": "stdout",
     "output_type": "stream",
     "text": [
      "data/snpCompress/EVEN_10\n",
      "data/snpCompress/EVEN_100\n",
      "data/snpCompress/EVEN_50\n",
      "data/snpCompress/PCS_10\n",
      "data/snpCompress/PCS_50\n"
     ]
    }
   ],
   "source": [
    "for p in path_snps.iterdir():\n",
    "    print(p)\n",
    "     "
   ]
  },
  {
   "cell_type": "code",
   "execution_count": null,
   "id": "5023dac0",
   "metadata": {},
   "outputs": [
    {
     "data": {
      "image/png": "[encoded data removed]",
      "text/plain": [
       "<Figure size 640x480 with 1 Axes>"
      ]
     },
     "metadata": {},
     "output_type": "display_data"
    }
   ],
   "source": [
    "snp_data = collect_snps(path_snps/'EVEN_10') # Read in the SNP profiles\n",
    "yield_data = pd.read_csv(path_train_yieldTable) # Read in trait data \n",
    "yield_data = yield_data[yield_data['Twt_kg_m3'].notnull()] #Remove plots w/ missing yields\n",
    "weather_data = pd.read_csv(path_train_weatherTable) # Read in Weather Data\n",
    "weather_data['Year'] = [x.split('_')[1] for x in weather_data['Env']] #Store Year in a new column\n",
    "#removes yield data where no weather data\n",
    "setYield = set(yield_data['Env'])\n",
    "setWeather = set(weather_data['Env'])\n",
    "only_yield = setYield - setWeather\n",
    "only_weather = setWeather - setYield\n",
    "yield_data = yield_data.iloc[[x not in only_yield for x in yield_data['Env']],:]\n",
    "\n",
    "#removes yield data where no genotype data\n",
    "setSNP = set(snp_data[0])\n",
    "setYield = set(yield_data['Hybrid'])\n",
    "only_yield = setYield - setSNP\n",
    "yield_data = yield_data.iloc[[x not in only_yield for x in yield_data['Hybrid']],:]\n",
    "\n",
    "#Create a GEM dataset\n",
    "test_split = 2019\n",
    "gem = GEM(test_split)\n",
    "gem.Y = YT(yield_data, test_split)\n",
    "gem.W = WT(weather_data, test_split)\n",
    "gem.SNP = collect_snps(path_snps/'PCS_10')\n",
    "\n",
    "#example of how to unscale a value\n",
    "gem.Y.scaler.inverse_transform(np.array(1.4).reshape(-1,1))\n",
    "\n",
    "gem.Y.plot_yields()\n"
   ]
  },
  {
   "cell_type": "code",
   "execution_count": null,
   "id": "a38fd521",
   "metadata": {},
   "outputs": [
    {
     "data": {
      "text/plain": [
       "(-0.18528135372386198,\n",
       " array([-0.01253692, -0.01967193,  0.00168105,  0.00032169, -0.00813794,\n",
       "         0.00743239,  0.0462733 ,  0.01858733,  0.02131127,  0.01090407,\n",
       "        -0.01276276, -0.01079581,  0.00627322,  0.00424592,  0.01983922,\n",
       "         0.00113758,  0.02037995, -0.04411978,  0.00908802,  0.02615271]),\n",
       " array([[-0.94956556, -0.8726575 ,  1.46278892, ...,  1.48533658,\n",
       "          0.45331378, -0.41283883],\n",
       "        [-0.78933327, -0.57299712,  0.93104601, ...,  1.48533658,\n",
       "         -1.31374802,  0.72226319],\n",
       "        [-1.28422795, -1.6500783 ,  1.22499085, ...,  1.48533658,\n",
       "          0.51209526, -0.19095054],\n",
       "        ...,\n",
       "        [-0.71428776, -0.4589754 ,  1.28444037, ...,  1.01572727,\n",
       "         -1.3101307 ,  0.06867386],\n",
       "        [-1.02461107, -0.98290991,  1.47930268, ...,  1.01572727,\n",
       "         -0.46186869, -0.40529161],\n",
       "        [-1.17267382, -1.30895548,  1.49581643, ...,  1.01572727,\n",
       "          0.48315668, -0.41283883]]))"
      ]
     },
     "execution_count": null,
     "metadata": {},
     "output_type": "execute_result"
    }
   ],
   "source": [
    "ds = GemDataset(gem.W.Tr, gem.Y.Tr, gem.SNP)\n",
    "next(iter(ds))\n"
   ]
  },
  {
   "cell_type": "code",
   "execution_count": null,
   "id": "e6a36abf",
   "metadata": {},
   "outputs": [],
   "source": []
  }
 ],
 "metadata": {
  "kernelspec": {
   "display_name": "Python 3 (ipykernel)",
   "language": "python",
   "name": "python3"
  }
 },
 "nbformat": 4,
 "nbformat_minor": 5
}
